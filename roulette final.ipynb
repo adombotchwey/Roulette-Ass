{
 "cells": [
  {
   "cell_type": "code",
   "execution_count": 14,
   "metadata": {},
   "outputs": [],
   "source": [
    "import random\n",
    "import time\n",
    "\n",
    "def go_to_casino(money=1000):\n",
    "    # Initialize timer\n",
    "    start_time = time.time()\n",
    "    end_time = start_time + 120 # = 2 minutes\n",
    "\n",
    "    # Display current money\n",
    "    print(f\"You now have ${money}\")\n",
    "\n",
    "    # Play until player wants to stop or runs out of money\n",
    "    while money > 0 and start_time < end_time:\n",
    "\n",
    "        # Get player's bet\n",
    "        bet_amount = int(input(\"Enter your bet amount: \"))\n",
    "        bet_choice = input(\"Enter your bet choice (number between 1 and 35, red, or black): \")\n",
    "\n",
    "        # Check if bet is valid\n",
    "        if bet_amount > money:\n",
    "            print(\"You don't have enough money to place this bet.\")\n",
    "            continue\n",
    "        if bet_choice not in [\"red\", \"black\"] and not (1 <= int(bet_choice) <= 35):\n",
    "            print(\"Invalid bet choice.\")\n",
    "            continue\n",
    "\n",
    "        # Spin roulette and get result\n",
    "        result = random.randint(0, 36)\n",
    "        \n",
    "        if result == 0:\n",
    "            color = \"green\"\n",
    "        elif result % 2 == 0:\n",
    "            color = \"black\"\n",
    "        else:\n",
    "            color = \"red\"\n",
    "\n",
    "        # Check if player wins\n",
    "        if bet_choice == \"red\" and color == \"red\":\n",
    "            money += 2 * bet_amount\n",
    "            print(\"You won!\")\n",
    "        elif bet_choice == \"black\" and color == \"black\":\n",
    "            money += 2 * bet_amount\n",
    "            print(\"You won!\")\n",
    "        elif bet_choice == str(result):\n",
    "            money += 35 * bet_amount\n",
    "            print(\"You won!\")\n",
    "        else:\n",
    "            money -= bet_amount\n",
    "            print(\"You lost.\")\n",
    "\n",
    "        print(f\"You now have ${money}\")\n",
    "\n",
    "        # Check if player wants to stop\n",
    "        answer = input(\"Do you want to stop playing (y/n)? \")\n",
    "        if answer in [\"y\", \"Y\"]:\n",
    "            print(f\"You ended the game with ${money}.\")\n",
    "            break\n",
    "\n",
    "        # Update start time\n",
    "        start_time = time.time()\n",
    "\n",
    "    # if time is up\n",
    "    if start_time >= end_time:\n",
    "        print(\"You are now bankrupt because you got fired for being late for work.\")"
   ]
  },
  {
   "cell_type": "code",
   "execution_count": null,
   "metadata": {},
   "outputs": [],
   "source": [
    "final_money = go_to_casino()"
   ]
  }
 ],
 "metadata": {
  "kernelspec": {
   "display_name": "Python 3",
   "language": "python",
   "name": "python3"
  },
  "language_info": {
   "codemirror_mode": {
    "name": "ipython",
    "version": 3
   },
   "file_extension": ".py",
   "mimetype": "text/x-python",
   "name": "python",
   "nbconvert_exporter": "python",
   "pygments_lexer": "ipython3",
   "version": "3.11.0"
  },
  "orig_nbformat": 4,
  "vscode": {
   "interpreter": {
    "hash": "5238573367df39f7286bb46f9ff5f08f63a01a80960060ce41e3c79b190280fa"
   }
  }
 },
 "nbformat": 4,
 "nbformat_minor": 2
}
